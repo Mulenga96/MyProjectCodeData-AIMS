{
 "cells": [
  {
   "cell_type": "markdown",
   "metadata": {},
   "source": [
    "# Ulimisana vs Genetic Algorithm"
   ]
  },
  {
   "cell_type": "code",
   "execution_count": null,
   "metadata": {},
   "outputs": [],
   "source": [
    "!pip install ushiriki_policy_engine_library"
   ]
  },
  {
   "cell_type": "code",
   "execution_count": null,
   "metadata": {},
   "outputs": [],
   "source": [
    "!pip install geneticalgorithm "
   ]
  },
  {
   "cell_type": "code",
   "execution_count": null,
   "metadata": {},
   "outputs": [],
   "source": [
    "from ulimisana import testFunctions as tf\n",
    "from ulimisana import transformFunctions as trf\n",
    "from ulimisana import agent_positions as ps\n",
    "from ulimisana import trustworthinessFunction as twf\n",
    "from ulimisana import ubuntuIncentives as ui\n",
    "from ulimisana import ulimisana as uoa\n",
    "from ulimisana.ubuntuIncentives import initialise_ubuntuIncentives\n",
    "from ulimisana.ubuntuIncentives import ubuntuIncentives\n",
    "import ulimisana.ulimisana as uoa\n",
    "import numpy as np\n",
    "import math\n",
    "import matplotlib.pyplot as plt\n",
    "from geneticalgorithm import geneticalgorithm as ga\n",
    "import gym\n",
    "import ushiriki_policy_engine_library"
   ]
  },
  {
   "cell_type": "markdown",
   "metadata": {},
   "source": [
    "### Setting up the Ulimisana experiment."
   ]
  },
  {
   "cell_type": "code",
   "execution_count": null,
   "metadata": {
    "scrolled": true
   },
   "outputs": [],
   "source": [
    "time_iter = 2   # Iterations.\n",
    "\n",
    "lb = 0     # Lower bound for design variables.\n",
    "ub = 1     # Upper bound for design variables.\n",
    "dim = 10   # Dimensions of the objective function.\n",
    "\n",
    "\n",
    "\n",
    "popSize = 200  # Size of the Community.\n",
    "NoOfFamilies = 5  # Number of families in the community.\n",
    "fam_aveThreshold = 0.8  # Family average threshold (Average weight or fitness value)\n",
    "com_aveThreshold = 0.8  # Community average threshold (Average weight or fitness value)\n",
    "ageAverage = 35  # Average age in the community.\n",
    "ageStdev = 7  # Age standard deviation.\n",
    "\n",
    "\n",
    "phi = 0.7  # Weighted average on payoffs.\n",
    "\n",
    "\n",
    "epsilon = 0.15  # Advisor's maximum acceptable level of error.\n",
    "r = 0.7        # Reputation. \n",
    "trustThreshold = 0.45 # Threshold on trust.\n",
    "\n",
    "objFunction   = tf.MalariaCost # Malaria simulation objective function.\n",
    "sigFun_term   = trf.tanh # Transformation function.\n",
    "sigFun_weight = trf.tanh # Transformation function.\n",
    "\n",
    "'''\n",
    " x_info    : Gives information about each agent(individual). Their age, position at the end of all iterations, \n",
    "             their objective value (payoff) and family they belong to.\n",
    " x_pos     : Gives the changes in position over all the iterations.\n",
    " ind_val   : Gives the individual's payoffs for each iteration.\n",
    " fam_val   : Gives family payoffs for each iteration.\n",
    " com_val   : Gives community payoffs for each iteration.\n",
    " adv_trust : Gives the changes of trustworthiness each family had towards their advisors. \n",
    " trust     : Gives the changes of trustworthiness each family had towards all other families (This is computed using advisor's trustworthiness)\n",
    "\n",
    "'''\n",
    "# Evaluating the objective function over 'n' iterations.\n",
    "list_of_best=[]\n",
    "for i in range(5):\n",
    "    x_info,x_pos,ind_val,fam_val,comm_val,adv_trust,trust_matrix = uoa.ulimisana(time_iter,popSize,NoOfFamilies,ageAverage,ageStdev,\n",
    "              objFunction,dim,lb,ub,sigFun_term,sigFun_weight,fam_aveThreshold,com_aveThreshold,phi,epsilon,r,\n",
    "              trustThreshold)\n",
    "    best_ind_payoffs=max(np.array(ind_val)[0])\n",
    "    list_of_best.append(best_ind_payoffs)\n",
    "    best_ind_payoffs=0\n",
    "print(list_of_best)"
   ]
  },
  {
   "cell_type": "markdown",
   "metadata": {},
   "source": [
    "### Setting up the GA experiment"
   ]
  },
  {
   "cell_type": "code",
   "execution_count": null,
   "metadata": {},
   "outputs": [],
   "source": [
    "# Creating the Malaria platform (environment)\n",
    "iterations = 0\n",
    "environment = gym.make(\"ChallengePolicy-v0\", \n",
    "                     userID=\"61122946-1832-11ea-8d71-362b9e155667\",\n",
    "                     baseuri=\"https://reward-service.9xxws07e6gx.us-south.codeengine.appdomain.cloud\")\n",
    "environment.reset()\n",
    "\n",
    "# Defining the Malaria environment as an objective function to be evaluated by Genetic algorithm.\n",
    "def malariaCost(x):\n",
    "    global iterations\n",
    "    global environment\n",
    "    if iterations == 0:\n",
    "        print('Creating environment')\n",
    "        environment = gym.make(\"ChallengePolicy-v0\", \n",
    "                     userID=\"61122946-1832-11ea-8d71-362b9e155667\",\n",
    "                     baseuri=\"https://reward-service.9xxws07e6gx.us-south.codeengine.appdomain.cloud\")\n",
    "        environment.reset()\n",
    "    \n",
    "    policy = {}\n",
    "    j = 0\n",
    "    for i in range(1, 6):\n",
    "            \n",
    "                                                 \n",
    "        itn = x[j]\n",
    "        irs = x[j+1]\n",
    "        j += 2\n",
    "        policy[i] = (itn, irs)\n",
    "    print(f'{2000-iterations} left!')\n",
    "    iterations += 5\n",
    "    \n",
    "    if iterations >= 2000:\n",
    "        iterations = 0\n",
    "        print(f'Iterations reset to {iterations}')\n",
    "    \n",
    "    return -1*environment.step(policy)[1][-1]\n",
    "\n",
    "\n",
    "\n",
    "varbound=np.array([[0,1]]*10)\n",
    "\n",
    "algorithm_param = {'max_num_iteration': 3,\\\n",
    "                   'population_size':130,\\\n",
    "                   'mutation_probability':0.1,\\\n",
    "                   'elit_ratio': 0.01,\\\n",
    "                   'crossover_probability': 0.5,\\\n",
    "                   'parents_portion': 0.3,\\\n",
    "                   'crossover_type':'uniform',\\\n",
    "                   'max_iteration_without_improv':None}\n",
    "\n",
    "# Evaluating the objective function over 'n' iterations.\n",
    "best_collection = []\n",
    "for i in range(5):\n",
    "    model=ga(function=malariaCost,dimension=10,\\\n",
    "         variable_type='real',\\\n",
    "             variable_boundaries=varbound,\n",
    "             algorithm_parameters=algorithm_param)\n",
    "    all_model_results = model.run()\n",
    "    best_solution = np.mean(model.report)\n",
    "    updated_list_of_best = best_collection.append(abs(best_solution))\n",
    "    best_solution = 0\n",
    "print(best_collection)    "
   ]
  },
  {
   "cell_type": "markdown",
   "metadata": {},
   "source": [
    "### Generating plots for Ulimisana vs GA"
   ]
  },
  {
   "cell_type": "code",
   "execution_count": null,
   "metadata": {},
   "outputs": [],
   "source": [
    "np.random.seed(10)\n",
    "data1 = list_of_best\n",
    "data2 = best_collection\n",
    "data = [data1, data2]\n",
    "fig = plt.figure(figsize = (6, 4))\n",
    "plt.boxplot(data)\n",
    "\n",
    "\n",
    "plt.xticks([1, 2], [\"Ulimisana\", \"GA\"], rotation=10)\n",
    "#plt.xlabel('Ulimisana')\n",
    "plt.ylabel('Episodic Payoffs')\n",
    "plt.axis([None, None, 0, 400])\n",
    "plt.title('Best Ulimisana Ubuntu Incentive Parameters vs Genetic Algorithm')\n",
    "plt.savefig('Best_Ub_vs_GA')\n",
    "plt.show()"
   ]
  },
  {
   "cell_type": "code",
   "execution_count": null,
   "metadata": {},
   "outputs": [],
   "source": []
  },
  {
   "cell_type": "code",
   "execution_count": null,
   "metadata": {},
   "outputs": [],
   "source": []
  }
 ],
 "metadata": {
  "kernelspec": {
   "display_name": "Python 3",
   "language": "python",
   "name": "python3"
  },
  "language_info": {
   "codemirror_mode": {
    "name": "ipython",
    "version": 3
   },
   "file_extension": ".py",
   "mimetype": "text/x-python",
   "name": "python",
   "nbconvert_exporter": "python",
   "pygments_lexer": "ipython3",
   "version": "3.9.2"
  }
 },
 "nbformat": 4,
 "nbformat_minor": 4
}
